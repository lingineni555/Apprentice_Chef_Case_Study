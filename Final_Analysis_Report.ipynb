{
 "cells": [
  {
   "cell_type": "markdown",
   "metadata": {},
   "source": [
    "<hr style=\"height:.9px;border:none;color:#333;background-color:#333;\" />\n",
    "<hr style=\"height:.9px;border:none;color:#333;background-color:#333;\" />\n",
    "\n",
    "<br><h2>Analyzing the Apprentice Chef's First Year Customer </h2>\n",
    "<h4>DAT-5303 | Analysis Report to Management | Individual Assignment</h4>\n",
    "Models used OLS Regression and Tuned Random Forest<br>\n",
    "Created by <a href=\"https://www.linkedin.com/in/linginenivishal/\"> Vishal Lingineni </a> <br>\n",
    "Hult International Business School\n",
    "\n",
    "<h2>Purpose of this Script</h2><br>\n",
    "Developing a consolidated report containing my top actionable insights from the case as well as my final revenue and cross-sell promotion models.\n",
    "<br>\n",
    "\n",
    "<br>\n",
    "\n",
    "<hr style=\"height:.9px;border:none;color:#333;background-color:#333;\" />\n",
    "<hr style=\"height:.9px;border:none;color:#333;background-color:#333;\" />"
   ]
  },
  {
   "cell_type": "markdown",
   "metadata": {},
   "source": [
    "<h2>Managment Report</h2>"
   ]
  },
  {
   "cell_type": "markdown",
   "metadata": {},
   "source": [
    "<strong> Brief Introduction </strong><br>\n",
    "Apprentice Chef has been serving customers across the San Francisco’s Bay Area from the past three years. They want to understand how much revenue they can expect from each customer and promote their Halfway-There promotion to a broader audience. To better understand these two tasks, they hired us to analyze their first years’ service data and generate some actionable insights.  \n"
   ]
  },
  {
   "cell_type": "markdown",
   "metadata": {},
   "source": [
    "<strong>Methodology</strong> <br>\n",
    "The Data that we got from the Data Science team contains information about 2000 customers who had at least purchased once per month with a total of 11 purchases or one purchase per quarter with at least 15 purchases throughout their first year.\n"
   ]
  },
  {
   "cell_type": "markdown",
   "metadata": {},
   "source": [
    "<strong>Actionable Insights </strong>\n",
    "<li>A Customer who has a lengthy name and subscribed using a personal or professional email is more likely to opt for our promotion than a customer who subscribes using junk email.</li>\n",
    "<li>Junk email group has the second most potent influence on our promotion. Only 41% of customers from that group subscribed to our promotion, leaving us potential untapped customers left unexplored. </li>\n",
    "<li>One unit increase in video preparations is expected to improve the revenue from each customer by 0.04%, So having more detailed videos will motivate customers to buy more. </li> \n",
    "<li>Customers registered using any of the three classified email domains given by marketing team will have the same effect on revenue even though their response rates are different.  </li>"
   ]
  },
  {
   "cell_type": "markdown",
   "metadata": {},
   "source": [
    "<strong>Performance Metrics for the models </strong><br>\n",
    "<li>The Accuracy of the Model predicting expected revenue from each customer is 78.197.</li>\n",
    "<li>The AUC of the Model classifying a potential Halfway-There promotion customer is 76.278.</li> \n"
   ]
  },
  {
   "cell_type": "markdown",
   "metadata": {},
   "source": [
    "<strong>Conclusion</strong> <br>\n",
    "In conclusion, <i>increasing the duration of preparation instructions </i>will help grow the revenue. Customers from the junk emails category are the least subscriber group to our promotion, so <i>focusing more on them </i>will help us reach more customers.\n"
   ]
  },
  {
   "cell_type": "markdown",
   "metadata": {},
   "source": [
    "<strong>KPI </strong><br>\n",
    "<i>Conversion rate </i>acts as a good way to measure whether we are able to get more customers from junk email section. <br>\n",
    "<i>View-Trough Rate </i>can be used to see how targeted our videos are, along with this we can use <i>conversion rate</i> to check the increase in revenue after the new video is added"
   ]
  },
  {
   "cell_type": "markdown",
   "metadata": {},
   "source": [
    "<h2>Coding Details </h2>"
   ]
  },
  {
   "cell_type": "markdown",
   "metadata": {},
   "source": [
    "<h4>Importing the Dataset </h4>"
   ]
  },
  {
   "cell_type": "code",
   "execution_count": 69,
   "metadata": {},
   "outputs": [],
   "source": [
    "# importing libraries\n",
    "import pandas            as pd                       # data science essentials\n",
    "import matplotlib.pyplot as plt                      # data visualization\n",
    "import seaborn           as sns                      # enhanced data viz\n",
    "from sklearn.model_selection import train_test_split # train-test split\n",
    "from sklearn.linear_model import LogisticRegression  # logistic regression\n",
    "import statsmodels.formula.api as smf                # logistic regression\n",
    "from sklearn.metrics import confusion_matrix         # confusion matrix\n",
    "from sklearn.metrics import roc_auc_score            # auc score\n",
    "from sklearn.neighbors import KNeighborsClassifier   # KNN for classification\n",
    "from sklearn.neighbors import KNeighborsRegressor    # KNN for regression\n",
    "from sklearn.preprocessing import StandardScaler     # standard scaler\n",
    "from sklearn.model_selection import RandomizedSearchCV     # hyperparameter tuning\n",
    "from sklearn.metrics import make_scorer              # customizable scorer\n",
    "from sklearn.ensemble import RandomForestClassifier     # random forest\n",
    "from sklearn.ensemble import GradientBoostingClassifier # gbm\n",
    "import random as rand                     # random number gen\n",
    "import numpy as np # numpy package\n",
    "from sklearn.linear_model import LinearRegression # linear regression (scikit-learn)\n",
    "\n",
    "# setting pandas print options\n",
    "pd.set_option('display.max_rows', 500)\n",
    "pd.set_option('display.max_columns', 500)\n",
    "pd.set_option('display.width', 1000)\n",
    "\n",
    "# specifying file name\n",
    "file = 'Apprentice_Chef_Dataset_Rich.xlsx'\n",
    "\n",
    "# reading the file into Python\n",
    "restarunt = pd.read_excel(io=file)"
   ]
  },
  {
   "cell_type": "code",
   "execution_count": 70,
   "metadata": {},
   "outputs": [
    {
     "data": {
      "text/plain": [
       "(1946, 56)"
      ]
     },
     "execution_count": 70,
     "metadata": {},
     "output_type": "execute_result"
    }
   ],
   "source": [
    "restarunt.shape"
   ]
  },
  {
   "cell_type": "markdown",
   "metadata": {},
   "source": [
    "<h4>Revenue Prediction Model</h4>"
   ]
  },
  {
   "cell_type": "code",
   "execution_count": 71,
   "metadata": {},
   "outputs": [
    {
     "name": "stdout",
     "output_type": "stream",
     "text": [
      "\n",
      "Training Data\n",
      "-------------\n",
      "X-side: (1459, 49)\n",
      "y-side: (1459,)\n",
      "\n",
      "\n",
      "Testing Data\n",
      "------------\n",
      "X-side: (487, 49)\n",
      "y-side: (487,)\n",
      "\n"
     ]
    }
   ],
   "source": [
    "restarunt_data   = restarunt.drop(['revenue','revenue_per_order',\n",
    "                                 'log_revenue',\n",
    "                                 'email','first_name','name','family_name'],\n",
    "                               axis = 1)\n",
    "\n",
    "\n",
    "# preparing response variables\n",
    "restarunt_target = restarunt.loc[ : , 'revenue']\n",
    "log_restarunt_target = restarunt.loc[ : , 'log_revenue']\n",
    "\n",
    "\n",
    "\n",
    "# preparing training and testing sets (all letters are lowercase)\n",
    "x_train, x_test, y_train, y_test = train_test_split(\n",
    "            restarunt_data,\n",
    "            log_restarunt_target,\n",
    "            test_size = 0.25,\n",
    "            random_state = 219)\n",
    "\n",
    "\n",
    "# checking the shapes of the datasets\n",
    "print(f\"\"\"\n",
    "Training Data\n",
    "-------------\n",
    "X-side: {x_train.shape}\n",
    "y-side: {y_train.shape}\n",
    "\n",
    "\n",
    "Testing Data\n",
    "------------\n",
    "X-side: {x_test.shape}\n",
    "y-side: {y_test.shape}\n",
    "\"\"\")"
   ]
  },
  {
   "cell_type": "code",
   "execution_count": 72,
   "metadata": {},
   "outputs": [
    {
     "data": {
      "text/html": [
       "<table class=\"simpletable\">\n",
       "<caption>OLS Regression Results</caption>\n",
       "<tr>\n",
       "  <th>Dep. Variable:</th>       <td>log_revenue</td>   <th>  R-squared:         </th> <td>   0.774</td>\n",
       "</tr>\n",
       "<tr>\n",
       "  <th>Model:</th>                   <td>OLS</td>       <th>  Adj. R-squared:    </th> <td>   0.771</td>\n",
       "</tr>\n",
       "<tr>\n",
       "  <th>Method:</th>             <td>Least Squares</td>  <th>  F-statistic:       </th> <td>   259.0</td>\n",
       "</tr>\n",
       "<tr>\n",
       "  <th>Date:</th>             <td>Fri, 29 Jan 2021</td> <th>  Prob (F-statistic):</th>  <td>  0.00</td> \n",
       "</tr>\n",
       "<tr>\n",
       "  <th>Time:</th>                 <td>04:04:50</td>     <th>  Log-Likelihood:    </th> <td>  1295.7</td>\n",
       "</tr>\n",
       "<tr>\n",
       "  <th>No. Observations:</th>      <td>  1459</td>      <th>  AIC:               </th> <td>  -2551.</td>\n",
       "</tr>\n",
       "<tr>\n",
       "  <th>Df Residuals:</th>          <td>  1439</td>      <th>  BIC:               </th> <td>  -2446.</td>\n",
       "</tr>\n",
       "<tr>\n",
       "  <th>Df Model:</th>              <td>    19</td>      <th>                     </th>     <td> </td>   \n",
       "</tr>\n",
       "<tr>\n",
       "  <th>Covariance Type:</th>      <td>nonrobust</td>    <th>                     </th>     <td> </td>   \n",
       "</tr>\n",
       "</table>\n",
       "<table class=\"simpletable\">\n",
       "<tr>\n",
       "                 <td></td>                    <th>coef</th>     <th>std err</th>      <th>t</th>      <th>P>|t|</th>  <th>[0.025</th>    <th>0.975]</th>  \n",
       "</tr>\n",
       "<tr>\n",
       "  <th>Intercept</th>                       <td>    1.8516</td> <td>    0.016</td> <td>  117.978</td> <td> 0.000</td> <td>    1.821</td> <td>    1.882</td>\n",
       "</tr>\n",
       "<tr>\n",
       "  <th>cross_sell_success</th>              <td>   -0.0160</td> <td>    0.006</td> <td>   -2.681</td> <td> 0.007</td> <td>   -0.028</td> <td>   -0.004</td>\n",
       "</tr>\n",
       "<tr>\n",
       "  <th>total_meals_ordered</th>             <td>    0.0007</td> <td> 6.27e-05</td> <td>   10.916</td> <td> 0.000</td> <td>    0.001</td> <td>    0.001</td>\n",
       "</tr>\n",
       "<tr>\n",
       "  <th>unique_meals_purch</th>              <td>    0.0439</td> <td>    0.003</td> <td>   13.789</td> <td> 0.000</td> <td>    0.038</td> <td>    0.050</td>\n",
       "</tr>\n",
       "<tr>\n",
       "  <th>avg_prep_vid_time</th>               <td>    0.0012</td> <td> 9.39e-05</td> <td>   13.305</td> <td> 0.000</td> <td>    0.001</td> <td>    0.001</td>\n",
       "</tr>\n",
       "<tr>\n",
       "  <th>median_meal_rating</th>              <td>    0.1250</td> <td>    0.016</td> <td>    7.633</td> <td> 0.000</td> <td>    0.093</td> <td>    0.157</td>\n",
       "</tr>\n",
       "<tr>\n",
       "  <th>has_master_classes_attended</th>     <td>    0.0421</td> <td>    0.006</td> <td>    6.829</td> <td> 0.000</td> <td>    0.030</td> <td>    0.054</td>\n",
       "</tr>\n",
       "<tr>\n",
       "  <th>has_total_photos_viewed</th>         <td>    0.0289</td> <td>    0.006</td> <td>    4.886</td> <td> 0.000</td> <td>    0.017</td> <td>    0.040</td>\n",
       "</tr>\n",
       "<tr>\n",
       "  <th>recurring_complaints</th>            <td>   -0.2547</td> <td>    0.013</td> <td>  -19.222</td> <td> 0.000</td> <td>   -0.281</td> <td>   -0.229</td>\n",
       "</tr>\n",
       "<tr>\n",
       "  <th>log_contacts_w_customer_service</th> <td>    0.2763</td> <td>    0.025</td> <td>   10.961</td> <td> 0.000</td> <td>    0.227</td> <td>    0.326</td>\n",
       "</tr>\n",
       "<tr>\n",
       "  <th>log_median_meal_rating</th>          <td>   -0.3571</td> <td>    0.088</td> <td>   -4.073</td> <td> 0.000</td> <td>   -0.529</td> <td>   -0.185</td>\n",
       "</tr>\n",
       "<tr>\n",
       "  <th>log_largest_order_size</th>          <td>   -0.0572</td> <td>    0.026</td> <td>   -2.221</td> <td> 0.027</td> <td>   -0.108</td> <td>   -0.007</td>\n",
       "</tr>\n",
       "<tr>\n",
       "  <th>log_unique_meals_purch</th>          <td>   -0.5555</td> <td>    0.029</td> <td>  -18.925</td> <td> 0.000</td> <td>   -0.613</td> <td>   -0.498</td>\n",
       "</tr>\n",
       "<tr>\n",
       "  <th>junk</th>                            <td>    0.6150</td> <td>    0.007</td> <td>   90.243</td> <td> 0.000</td> <td>    0.602</td> <td>    0.628</td>\n",
       "</tr>\n",
       "<tr>\n",
       "  <th>personal</th>                        <td>    0.6178</td> <td>    0.006</td> <td>   97.136</td> <td> 0.000</td> <td>    0.605</td> <td>    0.630</td>\n",
       "</tr>\n",
       "<tr>\n",
       "  <th>professional</th>                    <td>    0.6188</td> <td>    0.007</td> <td>   93.322</td> <td> 0.000</td> <td>    0.606</td> <td>    0.632</td>\n",
       "</tr>\n",
       "<tr>\n",
       "  <th>andy</th>                            <td>    0.3003</td> <td>    0.029</td> <td>   10.283</td> <td> 0.000</td> <td>    0.243</td> <td>    0.358</td>\n",
       "</tr>\n",
       "<tr>\n",
       "  <th>female</th>                          <td>    0.2954</td> <td>    0.011</td> <td>   25.888</td> <td> 0.000</td> <td>    0.273</td> <td>    0.318</td>\n",
       "</tr>\n",
       "<tr>\n",
       "  <th>male</th>                            <td>    0.3170</td> <td>    0.009</td> <td>   34.186</td> <td> 0.000</td> <td>    0.299</td> <td>    0.335</td>\n",
       "</tr>\n",
       "<tr>\n",
       "  <th>mostly_female</th>                   <td>    0.3211</td> <td>    0.022</td> <td>   14.313</td> <td> 0.000</td> <td>    0.277</td> <td>    0.365</td>\n",
       "</tr>\n",
       "<tr>\n",
       "  <th>mostly_male</th>                     <td>    0.3143</td> <td>    0.021</td> <td>   14.739</td> <td> 0.000</td> <td>    0.272</td> <td>    0.356</td>\n",
       "</tr>\n",
       "<tr>\n",
       "  <th>unknown</th>                         <td>    0.3034</td> <td>    0.008</td> <td>   37.234</td> <td> 0.000</td> <td>    0.287</td> <td>    0.319</td>\n",
       "</tr>\n",
       "</table>\n",
       "<table class=\"simpletable\">\n",
       "<tr>\n",
       "  <th>Omnibus:</th>       <td>251.133</td> <th>  Durbin-Watson:     </th> <td>   2.047</td>\n",
       "</tr>\n",
       "<tr>\n",
       "  <th>Prob(Omnibus):</th> <td> 0.000</td>  <th>  Jarque-Bera (JB):  </th> <td>1536.514</td>\n",
       "</tr>\n",
       "<tr>\n",
       "  <th>Skew:</th>          <td>-0.649</td>  <th>  Prob(JB):          </th> <td>    0.00</td>\n",
       "</tr>\n",
       "<tr>\n",
       "  <th>Kurtosis:</th>      <td> 7.857</td>  <th>  Cond. No.          </th> <td>1.87e+18</td>\n",
       "</tr>\n",
       "</table><br/><br/>Warnings:<br/>[1] Standard Errors assume that the covariance matrix of the errors is correctly specified.<br/>[2] The smallest eigenvalue is 1.34e-29. This might indicate that there are<br/>strong multicollinearity problems or that the design matrix is singular."
      ],
      "text/plain": [
       "<class 'statsmodels.iolib.summary.Summary'>\n",
       "\"\"\"\n",
       "                            OLS Regression Results                            \n",
       "==============================================================================\n",
       "Dep. Variable:            log_revenue   R-squared:                       0.774\n",
       "Model:                            OLS   Adj. R-squared:                  0.771\n",
       "Method:                 Least Squares   F-statistic:                     259.0\n",
       "Date:                Fri, 29 Jan 2021   Prob (F-statistic):               0.00\n",
       "Time:                        04:04:50   Log-Likelihood:                 1295.7\n",
       "No. Observations:                1459   AIC:                            -2551.\n",
       "Df Residuals:                    1439   BIC:                            -2446.\n",
       "Df Model:                          19                                         \n",
       "Covariance Type:            nonrobust                                         \n",
       "===================================================================================================\n",
       "                                      coef    std err          t      P>|t|      [0.025      0.975]\n",
       "---------------------------------------------------------------------------------------------------\n",
       "Intercept                           1.8516      0.016    117.978      0.000       1.821       1.882\n",
       "cross_sell_success                 -0.0160      0.006     -2.681      0.007      -0.028      -0.004\n",
       "total_meals_ordered                 0.0007   6.27e-05     10.916      0.000       0.001       0.001\n",
       "unique_meals_purch                  0.0439      0.003     13.789      0.000       0.038       0.050\n",
       "avg_prep_vid_time                   0.0012   9.39e-05     13.305      0.000       0.001       0.001\n",
       "median_meal_rating                  0.1250      0.016      7.633      0.000       0.093       0.157\n",
       "has_master_classes_attended         0.0421      0.006      6.829      0.000       0.030       0.054\n",
       "has_total_photos_viewed             0.0289      0.006      4.886      0.000       0.017       0.040\n",
       "recurring_complaints               -0.2547      0.013    -19.222      0.000      -0.281      -0.229\n",
       "log_contacts_w_customer_service     0.2763      0.025     10.961      0.000       0.227       0.326\n",
       "log_median_meal_rating             -0.3571      0.088     -4.073      0.000      -0.529      -0.185\n",
       "log_largest_order_size             -0.0572      0.026     -2.221      0.027      -0.108      -0.007\n",
       "log_unique_meals_purch             -0.5555      0.029    -18.925      0.000      -0.613      -0.498\n",
       "junk                                0.6150      0.007     90.243      0.000       0.602       0.628\n",
       "personal                            0.6178      0.006     97.136      0.000       0.605       0.630\n",
       "professional                        0.6188      0.007     93.322      0.000       0.606       0.632\n",
       "andy                                0.3003      0.029     10.283      0.000       0.243       0.358\n",
       "female                              0.2954      0.011     25.888      0.000       0.273       0.318\n",
       "male                                0.3170      0.009     34.186      0.000       0.299       0.335\n",
       "mostly_female                       0.3211      0.022     14.313      0.000       0.277       0.365\n",
       "mostly_male                         0.3143      0.021     14.739      0.000       0.272       0.356\n",
       "unknown                             0.3034      0.008     37.234      0.000       0.287       0.319\n",
       "==============================================================================\n",
       "Omnibus:                      251.133   Durbin-Watson:                   2.047\n",
       "Prob(Omnibus):                  0.000   Jarque-Bera (JB):             1536.514\n",
       "Skew:                          -0.649   Prob(JB):                         0.00\n",
       "Kurtosis:                       7.857   Cond. No.                     1.87e+18\n",
       "==============================================================================\n",
       "\n",
       "Warnings:\n",
       "[1] Standard Errors assume that the covariance matrix of the errors is correctly specified.\n",
       "[2] The smallest eigenvalue is 1.34e-29. This might indicate that there are\n",
       "strong multicollinearity problems or that the design matrix is singular.\n",
       "\"\"\""
      ]
     },
     "execution_count": 72,
     "metadata": {},
     "output_type": "execute_result"
    }
   ],
   "source": [
    "# merging X_train and y_train so that they can be used in statsmodels\n",
    "restarunt_train = pd.concat([x_train, y_train], axis = 1)\n",
    "\n",
    "# blueprinting a OLS fit model type\n",
    "lm_full = smf.ols(formula = \"\"\"log_revenue ~\n",
    "cross_sell_success +\n",
    "total_meals_ordered +\n",
    "unique_meals_purch +\n",
    "avg_prep_vid_time +\n",
    "median_meal_rating +\n",
    "has_master_classes_attended +\n",
    "has_total_photos_viewed +\n",
    "recurring_complaints +\n",
    "log_contacts_w_customer_service +\n",
    "log_median_meal_rating +\n",
    "log_largest_order_size +\n",
    "log_unique_meals_purch +\n",
    "junk +\n",
    "personal +\n",
    "professional +\n",
    "andy +\n",
    "female +\n",
    "male +\n",
    "mostly_female +\n",
    "mostly_male +\n",
    "unknown\"\"\",\n",
    "                  data = restarunt_train)\n",
    "                  \n",
    "# telling Python to run the data through the blueprint\n",
    "results_full = lm_full.fit()\n",
    "\n",
    "\n",
    "# printing the results\n",
    "results_full.summary()"
   ]
  },
  {
   "cell_type": "code",
   "execution_count": 73,
   "metadata": {},
   "outputs": [],
   "source": [
    "# this variables are selected from OLS Fit model\n",
    "x_variables = ['cross_sell_success' ,\n",
    "'total_meals_ordered' ,\n",
    "'unique_meals_purch' ,\n",
    "'avg_prep_vid_time' ,\n",
    "'median_meal_rating' ,\n",
    "'has_master_classes_attended' ,\n",
    "'has_total_photos_viewed' ,\n",
    "'recurring_complaints' ,\n",
    "'log_contacts_w_customer_service' ,\n",
    "'log_median_meal_rating' ,\n",
    "'log_largest_order_size' ,\n",
    "'log_unique_meals_purch' ,\n",
    "'junk' ,\n",
    "'personal' ,\n",
    "'professional',\n",
    "'andy',\n",
    "'female', \n",
    "'male',\n",
    "'mostly_female',\n",
    "'mostly_male',\n",
    "'unknown'\n",
    "]"
   ]
  },
  {
   "cell_type": "code",
   "execution_count": 74,
   "metadata": {},
   "outputs": [],
   "source": [
    "# applying modelin scikit-learn\n",
    "\n",
    "# preparing x-variables from the OLS model\n",
    "ols_data = restarunt[x_variables]\n",
    "\n",
    "\n",
    "# preparing response variable\n",
    "log_restarunt_target = restarunt['log_revenue']\n",
    "\n",
    "###############################################\n",
    "## setting up more than one train-test split ##\n",
    "###############################################\n",
    "# FULL X-dataset and (normal Y)\n",
    "x_train_FULL, x_test_FULL, y_train_FULL, y_test_FULL = train_test_split(\n",
    "            restarunt_data,     # x-variables\n",
    "            log_restarunt_target,   # y-variable\n",
    "            test_size = 0.25,\n",
    "            random_state = 219)\n",
    "\n",
    "\n",
    "# Selected x-dataset and (normal Y)\n",
    "x_train_OLS, x_test_OLS, y_train_OLS, y_test_OLS = train_test_split(\n",
    "            restarunt_data,     # x-variables\n",
    "            log_restarunt_target,   # y-variable\n",
    "            test_size = 0.25,\n",
    "            random_state = 219)"
   ]
  },
  {
   "cell_type": "code",
   "execution_count": 88,
   "metadata": {},
   "outputs": [
    {
     "name": "stdout",
     "output_type": "stream",
     "text": [
      "OLS Training Score : 0.7864\n",
      "OLS Testing Score  : 0.78197\n",
      "OLS Train-Test Gap : 0.00443\n"
     ]
    }
   ],
   "source": [
    "# OLS model using scikit-learn\n",
    "\n",
    "# INSTANTIATING a model object\n",
    "lr = LinearRegression()\n",
    "\n",
    "\n",
    "# FITTING to the training data\n",
    "lr_fit = lr.fit(x_train_OLS, y_train_OLS)\n",
    "\n",
    "\n",
    "# PREDICTING on new data\n",
    "lr_pred = lr_fit.predict(x_test_OLS)\n",
    "\n",
    "\n",
    "# SCORING the results\n",
    "print('OLS Training Score :', lr.score(x_train_OLS, y_train_OLS).round(5))  # using R-square\n",
    "print('OLS Testing Score  :',  lr.score(x_test_OLS, y_test_OLS).round(5)) # using R-square\n",
    "\n",
    "# saving scoring results\n",
    "lr_train_score = lr.score(x_train_OLS, y_train_OLS).round(5)\n",
    "lr_test_score  = lr.score(x_test_OLS, y_test_OLS).round(5)\n",
    "\n",
    "# displaying and saving the gap between training and testing\n",
    "print('OLS Train-Test Gap :', abs(lr_train_score - lr_test_score).round(5))\n",
    "lr_test_gap = abs(lr_train_score - lr_test_score).round(5)"
   ]
  },
  {
   "cell_type": "code",
   "execution_count": 76,
   "metadata": {},
   "outputs": [
    {
     "name": "stdout",
     "output_type": "stream",
     "text": [
      "('intercept', 3.03)\n",
      "('cross_sell_success', 0.0)\n",
      "('total_meals_ordered', -0.01)\n",
      "('unique_meals_purch', 0.0)\n",
      "('avg_prep_vid_time', 0.04)\n",
      "('median_meal_rating', 0.04)\n",
      "('has_master_classes_attended', 0.01)\n",
      "('has_total_photos_viewed', -0.0)\n",
      "('recurring_complaints', 0.0)\n",
      "('log_contacts_w_customer_service', 0.0)\n",
      "('log_median_meal_rating', -0.01)\n",
      "('log_largest_order_size', 0.01)\n",
      "('log_unique_meals_purch', -0.0)\n",
      "('junk', -0.01)\n",
      "('personal', 0.0)\n",
      "('professional', -0.0)\n",
      "('andy', 0.0)\n",
      "('female', -0.01)\n",
      "('male', -0.01)\n",
      "('mostly_female', 0.0)\n",
      "('mostly_male', -0.04)\n",
      "('unknown', 0.01)\n"
     ]
    }
   ],
   "source": [
    "# zipping each feature name to its coefficient\n",
    "lr_model_values = zip(restarunt_data[x_variables].columns,\n",
    "                      lr_fit.coef_.round(decimals = 2))\n",
    "\n",
    "\n",
    "# setting up a placeholder list to store model features\n",
    "lr_model_lst = [('intercept', lr_fit.intercept_.round(decimals = 2))]\n",
    "\n",
    "\n",
    "# printing out each feature-coefficient pair one by one\n",
    "for val in lr_model_values:\n",
    "    lr_model_lst.append(val)\n",
    "    \n",
    "\n",
    "# checking the results\n",
    "for pair in lr_model_lst:\n",
    "    print(pair)"
   ]
  },
  {
   "cell_type": "code",
   "execution_count": 89,
   "metadata": {},
   "outputs": [
    {
     "name": "stdout",
     "output_type": "stream",
     "text": [
      "\n",
      "Model      Train Score      Test Score\n",
      "-----      -----------      ----------\n",
      "\u001b[1mOLS**      0.7864            0.78197\u001b[0m (Log_revenue is the Y variable)\n",
      "\n"
     ]
    }
   ],
   "source": [
    "print(f\"\"\"\n",
    "Model      Train Score      Test Score\n",
    "-----      -----------      ----------\n",
    "\\033[1mOLS**      {lr_train_score}            {lr_test_score}\\033[0m (Log_revenue is the Y variable)\n",
    "\"\"\")"
   ]
  },
  {
   "cell_type": "markdown",
   "metadata": {},
   "source": [
    "<h4>Cross Sell Success Prediction Model</h4>"
   ]
  },
  {
   "cell_type": "code",
   "execution_count": 78,
   "metadata": {},
   "outputs": [],
   "source": [
    "# declaring explanatory variables\n",
    "restarunt_data = restarunt.drop(['cross_sell_success','name','email','first_name','family_name'], axis = 1)\n",
    "\n",
    "\n",
    "# declaring response variable\n",
    "restarunt_response = restarunt.loc[ : , 'cross_sell_success']\n"
   ]
  },
  {
   "cell_type": "code",
   "execution_count": 79,
   "metadata": {},
   "outputs": [],
   "source": [
    "# train-test split with stratification\n",
    "x_train, x_test, y_train, y_test = train_test_split(\n",
    "            restarunt_data,\n",
    "            restarunt_response,\n",
    "            test_size    = 0.25,\n",
    "            random_state = 219,\n",
    "            stratify     = restarunt_response)\n",
    "\n",
    "\n",
    "# merging training data for statsmodels\n",
    "restarunt_train = pd.concat([x_train, y_train], axis = 1)"
   ]
  },
  {
   "cell_type": "code",
   "execution_count": 80,
   "metadata": {},
   "outputs": [],
   "source": [
    "# these are the variables that we selected for predicting cross sell sucess \n",
    "logit_sig2 = ['mobile_number','cancellations_before_noon',\n",
    "            'tastes_and_preferences','pc_logins','early_deliveries','avg_prep_vid_time',\n",
    "              'junk','personal','len_of_name','refrigerated_locker','female','male'] "
   ]
  },
  {
   "cell_type": "code",
   "execution_count": 81,
   "metadata": {},
   "outputs": [
    {
     "name": "stdout",
     "output_type": "stream",
     "text": [
      "Optimization terminated successfully.\n",
      "         Current function value: 0.532608\n",
      "         Iterations 6\n"
     ]
    },
    {
     "data": {
      "text/html": [
       "<table class=\"simpletable\">\n",
       "<caption>Logit Regression Results</caption>\n",
       "<tr>\n",
       "  <th>Dep. Variable:</th>   <td>cross_sell_success</td> <th>  No. Observations:  </th>  <td>  1459</td>  \n",
       "</tr>\n",
       "<tr>\n",
       "  <th>Model:</th>                  <td>Logit</td>       <th>  Df Residuals:      </th>  <td>  1446</td>  \n",
       "</tr>\n",
       "<tr>\n",
       "  <th>Method:</th>                  <td>MLE</td>        <th>  Df Model:          </th>  <td>    12</td>  \n",
       "</tr>\n",
       "<tr>\n",
       "  <th>Date:</th>             <td>Fri, 29 Jan 2021</td>  <th>  Pseudo R-squ.:     </th>  <td>0.1518</td>  \n",
       "</tr>\n",
       "<tr>\n",
       "  <th>Time:</th>                 <td>04:04:51</td>      <th>  Log-Likelihood:    </th> <td> -777.07</td> \n",
       "</tr>\n",
       "<tr>\n",
       "  <th>converged:</th>              <td>True</td>        <th>  LL-Null:           </th> <td> -916.19</td> \n",
       "</tr>\n",
       "<tr>\n",
       "  <th>Covariance Type:</th>      <td>nonrobust</td>     <th>  LLR p-value:       </th> <td>1.718e-52</td>\n",
       "</tr>\n",
       "</table>\n",
       "<table class=\"simpletable\">\n",
       "<tr>\n",
       "              <td></td>                 <th>coef</th>     <th>std err</th>      <th>z</th>      <th>P>|z|</th>  <th>[0.025</th>    <th>0.975]</th>  \n",
       "</tr>\n",
       "<tr>\n",
       "  <th>Intercept</th>                 <td>   -2.8412</td> <td>    0.684</td> <td>   -4.151</td> <td> 0.000</td> <td>   -4.183</td> <td>   -1.500</td>\n",
       "</tr>\n",
       "<tr>\n",
       "  <th>len_of_name</th>               <td>    0.0804</td> <td>    0.013</td> <td>    6.211</td> <td> 0.000</td> <td>    0.055</td> <td>    0.106</td>\n",
       "</tr>\n",
       "<tr>\n",
       "  <th>mobile_number</th>             <td>    0.9237</td> <td>    0.178</td> <td>    5.180</td> <td> 0.000</td> <td>    0.574</td> <td>    1.273</td>\n",
       "</tr>\n",
       "<tr>\n",
       "  <th>cancellations_before_noon</th> <td>    0.2813</td> <td>    0.047</td> <td>    5.989</td> <td> 0.000</td> <td>    0.189</td> <td>    0.373</td>\n",
       "</tr>\n",
       "<tr>\n",
       "  <th>tastes_and_preferences</th>    <td>    0.3829</td> <td>    0.137</td> <td>    2.797</td> <td> 0.005</td> <td>    0.115</td> <td>    0.651</td>\n",
       "</tr>\n",
       "<tr>\n",
       "  <th>pc_logins</th>                 <td>    0.2508</td> <td>    0.108</td> <td>    2.324</td> <td> 0.020</td> <td>    0.039</td> <td>    0.462</td>\n",
       "</tr>\n",
       "<tr>\n",
       "  <th>early_deliveries</th>          <td>    0.0617</td> <td>    0.028</td> <td>    2.213</td> <td> 0.027</td> <td>    0.007</td> <td>    0.116</td>\n",
       "</tr>\n",
       "<tr>\n",
       "  <th>avg_prep_vid_time</th>         <td>    0.0026</td> <td>    0.001</td> <td>    2.057</td> <td> 0.040</td> <td>    0.000</td> <td>    0.005</td>\n",
       "</tr>\n",
       "<tr>\n",
       "  <th>refrigerated_locker</th>       <td>    0.5323</td> <td>    0.211</td> <td>    2.517</td> <td> 0.012</td> <td>    0.118</td> <td>    0.947</td>\n",
       "</tr>\n",
       "<tr>\n",
       "  <th>junk</th>                      <td>   -1.9312</td> <td>    0.173</td> <td>  -11.138</td> <td> 0.000</td> <td>   -2.271</td> <td>   -1.591</td>\n",
       "</tr>\n",
       "<tr>\n",
       "  <th>personal</th>                  <td>   -0.6027</td> <td>    0.146</td> <td>   -4.140</td> <td> 0.000</td> <td>   -0.888</td> <td>   -0.317</td>\n",
       "</tr>\n",
       "<tr>\n",
       "  <th>male</th>                      <td>    0.4872</td> <td>    0.168</td> <td>    2.907</td> <td> 0.004</td> <td>    0.159</td> <td>    0.816</td>\n",
       "</tr>\n",
       "<tr>\n",
       "  <th>female</th>                    <td>   -0.6332</td> <td>    0.240</td> <td>   -2.639</td> <td> 0.008</td> <td>   -1.104</td> <td>   -0.163</td>\n",
       "</tr>\n",
       "</table>"
      ],
      "text/plain": [
       "<class 'statsmodels.iolib.summary.Summary'>\n",
       "\"\"\"\n",
       "                           Logit Regression Results                           \n",
       "==============================================================================\n",
       "Dep. Variable:     cross_sell_success   No. Observations:                 1459\n",
       "Model:                          Logit   Df Residuals:                     1446\n",
       "Method:                           MLE   Df Model:                           12\n",
       "Date:                Fri, 29 Jan 2021   Pseudo R-squ.:                  0.1518\n",
       "Time:                        04:04:51   Log-Likelihood:                -777.07\n",
       "converged:                       True   LL-Null:                       -916.19\n",
       "Covariance Type:            nonrobust   LLR p-value:                 1.718e-52\n",
       "=============================================================================================\n",
       "                                coef    std err          z      P>|z|      [0.025      0.975]\n",
       "---------------------------------------------------------------------------------------------\n",
       "Intercept                    -2.8412      0.684     -4.151      0.000      -4.183      -1.500\n",
       "len_of_name                   0.0804      0.013      6.211      0.000       0.055       0.106\n",
       "mobile_number                 0.9237      0.178      5.180      0.000       0.574       1.273\n",
       "cancellations_before_noon     0.2813      0.047      5.989      0.000       0.189       0.373\n",
       "tastes_and_preferences        0.3829      0.137      2.797      0.005       0.115       0.651\n",
       "pc_logins                     0.2508      0.108      2.324      0.020       0.039       0.462\n",
       "early_deliveries              0.0617      0.028      2.213      0.027       0.007       0.116\n",
       "avg_prep_vid_time             0.0026      0.001      2.057      0.040       0.000       0.005\n",
       "refrigerated_locker           0.5323      0.211      2.517      0.012       0.118       0.947\n",
       "junk                         -1.9312      0.173    -11.138      0.000      -2.271      -1.591\n",
       "personal                     -0.6027      0.146     -4.140      0.000      -0.888      -0.317\n",
       "male                          0.4872      0.168      2.907      0.004       0.159       0.816\n",
       "female                       -0.6332      0.240     -2.639      0.008      -1.104      -0.163\n",
       "=============================================================================================\n",
       "\"\"\""
      ]
     },
     "execution_count": 81,
     "metadata": {},
     "output_type": "execute_result"
    }
   ],
   "source": [
    "# instantiating a logistic regression model object\n",
    "logistic_full = smf.logit(formula = \"\"\" cross_sell_success ~\n",
    "len_of_name +\n",
    "mobile_number +\n",
    "cancellations_before_noon +\n",
    "tastes_and_preferences +\n",
    "pc_logins +\n",
    "early_deliveries +\n",
    "avg_prep_vid_time+\n",
    "refrigerated_locker+\n",
    "junk +\n",
    "personal +\n",
    "male  +\n",
    "female \n",
    " \"\"\",\n",
    "                                        data    = restarunt_train)\n",
    "\n",
    "# fitting the model object\n",
    "results_full = logistic_full.fit()\n",
    "\n",
    "\n",
    "# checking the results SUMMARY\n",
    "results_full.summary()"
   ]
  },
  {
   "cell_type": "markdown",
   "metadata": {},
   "source": [
    "As we can see all the selected features are having significant P-value"
   ]
  },
  {
   "cell_type": "code",
   "execution_count": 82,
   "metadata": {},
   "outputs": [],
   "source": [
    "# train/test split with the full model\n",
    "restarunt_data   =  restarunt.loc[ : , logit_sig2]\n",
    "restarunt_target =  restarunt.loc[ : , 'cross_sell_success']\n",
    "\n",
    "\n",
    "# this is the exact code we were using before\n",
    "x_train, x_test, y_train, y_test = train_test_split(\n",
    "            restarunt_data,\n",
    "            restarunt_target,\n",
    "            random_state = 219,\n",
    "            test_size    = 0.25,\n",
    "            stratify     = restarunt_target)"
   ]
  },
  {
   "cell_type": "code",
   "execution_count": 91,
   "metadata": {},
   "outputs": [
    {
     "name": "stdout",
     "output_type": "stream",
     "text": [
      "Forest Tuned Training ACCURACY: 0.79712\n",
      "Forest Tuned Testing  ACCURACY: 0.82957\n",
      "Forest Tuned AUC Score        : 0.76278\n"
     ]
    }
   ],
   "source": [
    "# building a model based on hyperparameter tuning results\n",
    "\n",
    "# copy/pasting in the best_estimator_ results\n",
    "# to avoid running another RandomizedSearch\n",
    "forest_tuned = RandomForestClassifier(bootstrap=False, class_weight=None, criterion='entropy',\n",
    "                       max_depth=None, max_features='auto', max_leaf_nodes=None,\n",
    "                       min_impurity_decrease=0.0, min_impurity_split=None,\n",
    "                       min_samples_leaf=11, min_samples_split=2,\n",
    "                       min_weight_fraction_leaf=0.0, n_estimators=100,\n",
    "                       n_jobs=None, oob_score=False, random_state=219,\n",
    "                       verbose=0, warm_start=True)\n",
    "\n",
    "\n",
    "# FITTING the model object\n",
    "forest_tuned_fit = forest_tuned.fit(restarunt_data, restarunt_target)\n",
    "\n",
    "\n",
    "# PREDICTING based on the testing set\n",
    "forest_tuned_pred = forest_tuned_fit.predict(x_test)\n",
    "\n",
    "\n",
    "# SCORING the results\n",
    "print('Forest Tuned Training ACCURACY:', forest_tuned.score(x_train, y_train).round(5))\n",
    "print('Forest Tuned Testing  ACCURACY:', forest_tuned.score(x_test, y_test).round(5))\n",
    "print('Forest Tuned AUC Score        :', roc_auc_score(y_true  = y_test,\n",
    "                                                   y_score = forest_tuned_pred).round(5))\n",
    "\n",
    "\n",
    "# saving scoring data for future use\n",
    "forest_tuned_train_score = forest_tuned.score(x_train, y_train).round(5) # accuracy\n",
    "forest_tuned_test_score  = forest_tuned.score(x_test, y_test).round(5)   # accuracy\n",
    "\n",
    "\n",
    "# saving the AUC score\n",
    "forest_tuned_auc = roc_auc_score(y_true  = y_test,\n",
    "                                 y_score = forest_tuned_pred).round(5) # auc"
   ]
  },
  {
   "cell_type": "code",
   "execution_count": 84,
   "metadata": {},
   "outputs": [],
   "source": [
    "########################################\n",
    "# plot_feature_importances\n",
    "########################################\n",
    "def plot_feature_importances(model, train, export = False):\n",
    "    \"\"\"\n",
    "    Plots the importance of features from a CART model.\n",
    "    \n",
    "    PARAMETERS\n",
    "    ----------\n",
    "    model  : CART model\n",
    "    train  : explanatory variable training data\n",
    "    export : whether or not to export as a .png image, default False\n",
    "    \"\"\"\n",
    "    \n",
    "    # declaring the number\n",
    "    n_features = x_train.shape[1]\n",
    "    \n",
    "    # setting plot window\n",
    "    fig, ax = plt.subplots(figsize=(12,9))\n",
    "    \n",
    "    plt.barh(range(n_features), model.feature_importances_, align='center')\n",
    "    plt.yticks(pd.np.arange(n_features), train.columns)\n",
    "    plt.xlabel(\"Feature importance\")\n",
    "    plt.ylabel(\"Feature\")\n",
    "    \n",
    "    if export == True:\n",
    "        plt.savefig('Tree_Leaf_50_Feature_Importance.png')"
   ]
  },
  {
   "cell_type": "code",
   "execution_count": 85,
   "metadata": {
    "scrolled": true
   },
   "outputs": [
    {
     "data": {
      "image/png": "[encoded data removed]",
      "text/plain": [
       "<Figure size 864x648 with 1 Axes>"
      ]
     },
     "metadata": {
      "needs_background": "light"
     },
     "output_type": "display_data"
    }
   ],
   "source": [
    "# plotting feature importances\n",
    "plot_feature_importances(forest_tuned_fit,\n",
    "                         train = x_train,\n",
    "                         export = False)"
   ]
  },
  {
   "cell_type": "code",
   "execution_count": 86,
   "metadata": {},
   "outputs": [
    {
     "name": "stdout",
     "output_type": "stream",
     "text": [
      "\n",
      "True Negatives : 90\n",
      "False Positives: 66\n",
      "False Negatives: 17\n",
      "True Positives : 314\n",
      "\n"
     ]
    }
   ],
   "source": [
    "# unpacking the confusion matrix\n",
    "tuned_rf_tn, \\\n",
    "tuned_rf_fp, \\\n",
    "tuned_rf_fn, \\\n",
    "tuned_rf_tp = confusion_matrix(y_true = y_test, y_pred = forest_tuned_pred).ravel()\n",
    "\n",
    "\n",
    "# printing each result one-by-one\n",
    "print(f\"\"\"\n",
    "True Negatives : {tuned_rf_tn}\n",
    "False Positives: {tuned_rf_fp}\n",
    "False Negatives: {tuned_rf_fn}\n",
    "True Positives : {tuned_rf_tp}\n",
    "\"\"\")"
   ]
  },
  {
   "cell_type": "code",
   "execution_count": 87,
   "metadata": {},
   "outputs": [
    {
     "data": {
      "text/html": [
       "<div>\n",
       "<style scoped>\n",
       "    .dataframe tbody tr th:only-of-type {\n",
       "        vertical-align: middle;\n",
       "    }\n",
       "\n",
       "    .dataframe tbody tr th {\n",
       "        vertical-align: top;\n",
       "    }\n",
       "\n",
       "    .dataframe thead th {\n",
       "        text-align: right;\n",
       "    }\n",
       "</style>\n",
       "<table border=\"1\" class=\"dataframe\">\n",
       "  <thead>\n",
       "    <tr style=\"text-align: right;\">\n",
       "      <th></th>\n",
       "      <th>Model Name</th>\n",
       "      <th>Training Accuracy</th>\n",
       "      <th>Testing Accuracy</th>\n",
       "      <th>AUC Score</th>\n",
       "      <th>Confusion Matrix</th>\n",
       "    </tr>\n",
       "  </thead>\n",
       "  <tbody>\n",
       "    <tr>\n",
       "      <th>0</th>\n",
       "      <td>Tuned Random Forest (Full)</td>\n",
       "      <td>0.7971</td>\n",
       "      <td>0.8296</td>\n",
       "      <td>0.7628</td>\n",
       "      <td>(90, 66, 17, 314)</td>\n",
       "    </tr>\n",
       "  </tbody>\n",
       "</table>\n",
       "</div>"
      ],
      "text/plain": [
       "                   Model Name  Training Accuracy  Testing Accuracy  AUC Score   Confusion Matrix\n",
       "0  Tuned Random Forest (Full)             0.7971            0.8296     0.7628  (90, 66, 17, 314)"
      ]
     },
     "execution_count": 87,
     "metadata": {},
     "output_type": "execute_result"
    }
   ],
   "source": [
    "# declaring model performance objects\n",
    "tuned_rf_train_acc = forest_tuned_fit.score(x_train, y_train).round(4)\n",
    "tuned_rf_test_acc  = forest_tuned_fit.score(x_test, y_test).round(4)\n",
    "tuned_rf_auc       = roc_auc_score(y_true  = y_test,\n",
    "                                   y_score = forest_tuned_pred).round(4)\n",
    "\n",
    "\n",
    "# appending to model_performance\n",
    "Classification_model_performance ={\n",
    "                           'Model Name'         : 'Tuned Random Forest (Full)',\n",
    "                           'Training Accuracy'  : tuned_rf_train_acc,\n",
    "                           'Testing Accuracy'   : tuned_rf_test_acc,\n",
    "                           'AUC Score'          : tuned_rf_auc,\n",
    "                           'Confusion Matrix'   : [(tuned_rf_tn,\n",
    "                                                   tuned_rf_fp,\n",
    "                                                   tuned_rf_fn,\n",
    "                                                   tuned_rf_tp)]}\n",
    "\n",
    "\n",
    "\n",
    "# converting model_performance into a DataFrame\n",
    "Classification_model_performance = pd.DataFrame(Classification_model_performance)\n",
    "\n",
    "# checking the results\n",
    "Classification_model_performance"
   ]
  }
 ],
 "metadata": {
  "kernelspec": {
   "display_name": "Python 3",
   "language": "python",
   "name": "python3"
  },
  "language_info": {
   "codemirror_mode": {
    "name": "ipython",
    "version": 3
   },
   "file_extension": ".py",
   "mimetype": "text/x-python",
   "name": "python",
   "nbconvert_exporter": "python",
   "pygments_lexer": "ipython3",
   "version": "3.7.4"
  },
  "toc": {
   "base_numbering": 1,
   "nav_menu": {},
   "number_sections": false,
   "sideBar": true,
   "skip_h1_title": false,
   "title_cell": "Table of Contents",
   "title_sidebar": "Contents",
   "toc_cell": false,
   "toc_position": {},
   "toc_section_display": true,
   "toc_window_display": true
  },
  "varInspector": {
   "cols": {
    "lenName": 16,
    "lenType": 16,
    "lenVar": 40
   },
   "kernels_config": {
    "python": {
     "delete_cmd_postfix": "",
     "delete_cmd_prefix": "del ",
     "library": "var_list.py",
     "varRefreshCmd": "print(var_dic_list())"
    },
    "r": {
     "delete_cmd_postfix": ") ",
     "delete_cmd_prefix": "rm(",
     "library": "var_list.r",
     "varRefreshCmd": "cat(var_dic_list()) "
    }
   },
   "types_to_exclude": [
    "module",
    "function",
    "builtin_function_or_method",
    "instance",
    "_Feature"
   ],
   "window_display": false
  }
 },
 "nbformat": 4,
 "nbformat_minor": 2
}
